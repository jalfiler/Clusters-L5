{
 "cells": [
  {
   "cell_type": "markdown",
   "id": "dc65e78a-81b0-4ef8-a78b-da20e6803434",
   "metadata": {},
   "source": [
    "# Gaia DR3\n",
    "\n",
    "Clusters:\n",
    "\n",
    "- NGC 6558\n",
    "- NGC 6453\n",
    "- NGC 6441\n",
    "- FSR 1758\n",
    "- Ter 9"
   ]
  }
 ],
 "metadata": {
  "kernelspec": {
   "display_name": "Python 3 (ipykernel)",
   "language": "python",
   "name": "python3"
  },
  "language_info": {
   "codemirror_mode": {
    "name": "ipython",
    "version": 3
   },
   "file_extension": ".py",
   "mimetype": "text/x-python",
   "name": "python",
   "nbconvert_exporter": "python",
   "pygments_lexer": "ipython3",
   "version": "3.9.7"
  }
 },
 "nbformat": 4,
 "nbformat_minor": 5
}
